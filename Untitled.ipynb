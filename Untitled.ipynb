{
 "cells": [
  {
   "cell_type": "markdown",
   "id": "3d47bcab-3ebd-43fa-a863-a28a755ff53d",
   "metadata": {
    "tags": []
   },
   "source": [
    "# 1. Python was developed by GUIDO VAN ROSSUM\n"
   ]
  },
  {
   "cell_type": "markdown",
   "id": "06ed72c1-2363-4458-8159-1d054588c27e",
   "metadata": {},
   "source": [
    "# 2. Python supports various types of programming like OBJECT ORIENTED PROGRAMMING AND STRUCTURED PROGRAMMING......."
   ]
  },
  {
   "cell_type": "markdown",
   "id": "163d529a-7ca3-4955-8fd4-10956978eedc",
   "metadata": {},
   "source": [
    "# 3. YES, python is case sensitive while dealing with identifiers.....Ex: variableMy and variablemy is different"
   ]
  },
  {
   "cell_type": "markdown",
   "id": "0b87c1b4-5007-4598-8784-1829f694145e",
   "metadata": {},
   "source": [
    "# 4. The extension of the python file \".py\""
   ]
  },
  {
   "cell_type": "markdown",
   "id": "b0ff5368-8516-4fae-a017-d8ec74eca6c1",
   "metadata": {},
   "source": [
    "# 5. Python language is a interpreted language not a compiled langauge . The code is saved temporarly until the script is running"
   ]
  },
  {
   "cell_type": "markdown",
   "id": "befae6c3-a9b7-42ce-a880-f0b543e2c972",
   "metadata": {},
   "source": [
    "# 6. A function body,class defination and a module is defined as a block of code in python\n",
    "        "
   ]
  },
  {
   "cell_type": "markdown",
   "id": "fd316527-019f-4399-96c6-a24c61934078",
   "metadata": {},
   "source": [
    "# 7. Hash(#) is been used as a single lined comment in python"
   ]
  },
  {
   "cell_type": "markdown",
   "id": "4a17938c-63da-4f3d-b3fb-4ebd018e6e83",
   "metadata": {},
   "source": [
    "# 8. By using sys.version() function,python_version() function we can identify the version of pyhton which we are using.\n",
    "              "
   ]
  },
  {
   "cell_type": "markdown",
   "id": "18ff1f78-3b5c-45d4-a5e5-f6edcf8e3558",
   "metadata": {},
   "source": [
    "# 9. \"lambda\" construct is being used to construct anonymous functions at runtime."
   ]
  },
  {
   "cell_type": "markdown",
   "id": "8c7278f9-19c1-4c8d-ba17-8e1ff9d2ed81",
   "metadata": {},
   "source": [
    "# 10. pip is a package management used in python to download the packages in python which are a not a part of the python library."
   ]
  },
  {
   "cell_type": "markdown",
   "id": "64750990-f81d-4889-9eda-83bc9323d84c",
   "metadata": {},
   "source": [
    "# 11. type(),pop(),bin(),compile(),complex() are few of the inbuild fuctions used in python.\n",
    "        "
   ]
  },
  {
   "cell_type": "markdown",
   "id": "bf2b9002-ccdd-4da3-9866-2dcc5389ca00",
   "metadata": {},
   "source": [
    "# 12. There is no limit to a length of a identifier but most probably 79 is the maximum recommended maximum length used in a identifier."
   ]
  },
  {
   "cell_type": "markdown",
   "id": "52039fc0-6de7-4bef-92d8-7dba93237baa",
   "metadata": {},
   "source": [
    "# 13. Easy to learn and use , low length of code , Extensive libraries and portability are few of the benefits of python."
   ]
  },
  {
   "cell_type": "markdown",
   "id": "f595d15f-04f5-47ee-8704-6cbd5cad516e",
   "metadata": {},
   "source": [
    "# 14. The python uses dynamic memory allocation and it is managed by the heap data structure to manage the memory"
   ]
  },
  {
   "cell_type": "markdown",
   "id": "eab0cf67-90b2-4045-8826-621bb3059010",
   "metadata": {},
   "source": [
    "# 15. Click on PC and enter the properties and go to advanced system settings and click on environment variables button and we can see the path click and we can add the variables in it."
   ]
  },
  {
   "cell_type": "markdown",
   "id": "87f7edf3-c6fa-4569-914c-dccfa4324508",
   "metadata": {},
   "source": [
    "# 16. Identation is mandatory to execute a set of code in python."
   ]
  },
  {
   "cell_type": "code",
   "execution_count": null,
   "id": "fcd63bbf-bccd-4e18-a716-eb9626408111",
   "metadata": {},
   "outputs": [],
   "source": []
  }
 ],
 "metadata": {
  "kernelspec": {
   "display_name": "Python 3 (ipykernel)",
   "language": "python",
   "name": "python3"
  },
  "language_info": {
   "codemirror_mode": {
    "name": "ipython",
    "version": 3
   },
   "file_extension": ".py",
   "mimetype": "text/x-python",
   "name": "python",
   "nbconvert_exporter": "python",
   "pygments_lexer": "ipython3",
   "version": "3.10.8"
  }
 },
 "nbformat": 4,
 "nbformat_minor": 5
}
